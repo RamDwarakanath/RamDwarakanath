{
 "cells": [
  {
   "cell_type": "code",
   "execution_count": 1,
   "metadata": {},
   "outputs": [],
   "source": [
    "#Goal: Take in a list of things to do and then sort them throughout the day.\n",
    "#Goal: Code should actually be used.\n",
    "#Goal: Concise and clean code\n",
    "\n",
    "#from datetime import datetime\n",
    "import numpy as np\n",
    "import matplotlib.pyplot as plt"
   ]
  },
  {
   "cell_type": "code",
   "execution_count": null,
   "metadata": {},
   "outputs": [],
   "source": [
    "#To do\n",
    "\n",
    "#need to compute the time left in day and divide into equal breaks based on how many items there are\n",
    "#need to include the option to have a meal\n",
    "#need to convert to time in hours"
   ]
  },
  {
   "cell_type": "code",
   "execution_count": 3,
   "metadata": {},
   "outputs": [
    {
     "name": "stdout",
     "output_type": "stream",
     "text": [
      "Start Entering Things to Do\n",
      "type 'end' when done\n",
      "Enter Task\n",
      "gym\n",
      "Enter Time for Task (mins)\n",
      "120\n",
      "Enter Task\n",
      "football\n",
      "Enter Time for Task (mins)\n",
      "30\n",
      "Enter Task\n",
      "basketball\n",
      "Enter Time for Task (mins)\n",
      "40\n",
      "Enter Task\n",
      "CS 412\n",
      "Enter Time for Task (mins)\n",
      "30\n",
      "Enter Task\n",
      "end\n",
      "\n",
      "Nice List :)\n",
      "List of Things to do: ['gym', 'football', 'basketball', 'CS 412']\n",
      "List of Times: ['120', '30', '40', '30']\n"
     ]
    }
   ],
   "source": [
    "#Input list of items to do and allocated time\n",
    "\n",
    "#change to dictionary better down the line.\n",
    "ToDoList = {}\n",
    "# ToDoListTime = []\n",
    "\n",
    "ToDoItem = \"Start Entering Things to Do\"\n",
    "ToDoItemTime = 0\n",
    "print(ToDoItem)\n",
    "print(\"type 'end' when done\")\n",
    "while True:\n",
    "    print(\"Enter Task\")\n",
    "    ToDoItem = input()\n",
    "    if ToDoItem == 'end':\n",
    "        break\n",
    "    print(\"Enter Time for Task (mins)\")\n",
    "    ToDoItemTime = input()\n",
    "    ToDoList[ToDoItem] = ToDoItemTime\n",
    "print('')\n",
    "print('Nice List :)')\n",
    "print('List of Things to do:', list(ToDoList.keys()))\n",
    "print('List of Times:', list(ToDoList.values()))"
   ]
  },
  {
   "cell_type": "code",
   "execution_count": 6,
   "metadata": {},
   "outputs": [
    {
     "name": "stdout",
     "output_type": "stream",
     "text": [
      "What time do you want to start? (24 hr e.g. 17:30)\n"
     ]
    }
   ],
   "source": [
    "print('What time do you want to start? (24 hr e.g. 17:30)')\n",
    "# Start_Time = input()\n"
   ]
  },
  {
   "cell_type": "code",
   "execution_count": 7,
   "metadata": {},
   "outputs": [
    {
     "name": "stdout",
     "output_type": "stream",
     "text": [
      "{'gym': 120, 'football': 30, 'basketball': 40, 'CS 412': 30}\n"
     ]
    }
   ],
   "source": [
    "print(ToDoList)"
   ]
  },
  {
   "cell_type": "code",
   "execution_count": 8,
   "metadata": {},
   "outputs": [
    {
     "name": "stdout",
     "output_type": "stream",
     "text": [
      "220\n",
      "{'gym': 0, 'football': 120, 'basketball': 150, 'CS 412': 190}\n"
     ]
    }
   ],
   "source": [
    "#Generating Schedule\n",
    "#Find the start times excluding meals\n",
    "Start_Time = 0\n",
    "Sleep_Time = 0\n",
    "End_Time = (24 - Sleep_Time) * 60\n",
    "Time = 0\n",
    "Start_Times_List = {}\n",
    "for k,v in ToDoList.items():\n",
    "    Start_Times_List[k] = 0 + Time\n",
    "    Time += v\n",
    "\n",
    "print(Time)\n",
    "print(Start_Times_List)\n"
   ]
  },
  {
   "cell_type": "code",
   "execution_count": 29,
   "metadata": {},
   "outputs": [
    {
     "data": {
      "image/png": "[encoded data removed]",
      "text/plain": [
       "<Figure size 432x288 with 1 Axes>"
      ]
     },
     "metadata": {
      "needs_background": "light"
     },
     "output_type": "display_data"
    }
   ],
   "source": [
    "# horizontal stacked graph\n",
    "temp=0\n",
    "for k,v in Start_Times_List.items():\n",
    "    plt.barh('Schedule', v, left=temp)\n",
    "    temp = v\n",
    "\n",
    "plt.xlabel('Time (Minutes)')\n",
    "plt.title('Day Schedule')\n",
    "plt.show()\n",
    "#need to add legend\n",
    "#need to change to hours"
   ]
  },
  {
   "cell_type": "code",
   "execution_count": 4,
   "metadata": {},
   "outputs": [
    {
     "data": {
      "image/png": "[encoded data removed]",
      "text/plain": [
       "<Figure size 432x288 with 1 Axes>"
      ]
     },
     "metadata": {
      "needs_background": "light"
     },
     "output_type": "display_data"
    }
   ],
   "source": [
    "for key, value in ToDoList.items():\n",
    "    ToDoList[key] = int(value)\n",
    "plt.barh(list(ToDoList.keys()), list(ToDoList.values()), color='purple')\n",
    "plt.xlim([0, 100])\n",
    "plt.xlabel('Time (mins)')\n",
    "plt.show()"
   ]
  },
  {
   "cell_type": "code",
   "execution_count": null,
   "metadata": {},
   "outputs": [],
   "source": []
  }
 ],
 "metadata": {
  "kernelspec": {
   "display_name": "Python 3",
   "language": "python",
   "name": "python3"
  },
  "language_info": {
   "codemirror_mode": {
    "name": "ipython",
    "version": 3
   },
   "file_extension": ".py",
   "mimetype": "text/x-python",
   "name": "python",
   "nbconvert_exporter": "python",
   "pygments_lexer": "ipython3",
   "version": "3.8.3"
  }
 },
 "nbformat": 4,
 "nbformat_minor": 4
}
